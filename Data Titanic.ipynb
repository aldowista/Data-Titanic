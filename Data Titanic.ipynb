{
 "cells": [
  {
   "cell_type": "markdown",
   "metadata": {},
   "source": [
    "# Data Titanic\n",
    "\n",
    "#### Yang dikerjakan :\n",
    "- Mengolah dataframe Titanic\n",
    "    - Mengolah informasi yang terdapat pada dataframe titanic."
   ]
  },
  {
   "cell_type": "code",
   "execution_count": 1,
   "metadata": {},
   "outputs": [],
   "source": [
    "import numpy as np"
   ]
  },
  {
   "cell_type": "code",
   "execution_count": 2,
   "metadata": {},
   "outputs": [],
   "source": [
    "import pandas as pd"
   ]
  },
  {
   "cell_type": "code",
   "execution_count": 11,
   "metadata": {},
   "outputs": [],
   "source": [
    "import seaborn as sns"
   ]
  },
  {
   "cell_type": "markdown",
   "metadata": {},
   "source": [
    "#### Load Data Titanic"
   ]
  },
  {
   "cell_type": "code",
   "execution_count": 5,
   "metadata": {
    "scrolled": true
   },
   "outputs": [],
   "source": [
    "df = sns.load_dataset('titanic')"
   ]
  },
  {
   "cell_type": "code",
   "execution_count": 12,
   "metadata": {},
   "outputs": [
    {
     "data": {
      "text/html": [
       "<div>\n",
       "<style scoped>\n",
       "    .dataframe tbody tr th:only-of-type {\n",
       "        vertical-align: middle;\n",
       "    }\n",
       "\n",
       "    .dataframe tbody tr th {\n",
       "        vertical-align: top;\n",
       "    }\n",
       "\n",
       "    .dataframe thead th {\n",
       "        text-align: right;\n",
       "    }\n",
       "</style>\n",
       "<table border=\"1\" class=\"dataframe\">\n",
       "  <thead>\n",
       "    <tr style=\"text-align: right;\">\n",
       "      <th></th>\n",
       "      <th>survived</th>\n",
       "      <th>pclass</th>\n",
       "      <th>sex</th>\n",
       "      <th>age</th>\n",
       "      <th>sibsp</th>\n",
       "      <th>parch</th>\n",
       "      <th>fare</th>\n",
       "      <th>embarked</th>\n",
       "      <th>class</th>\n",
       "      <th>who</th>\n",
       "      <th>adult_male</th>\n",
       "      <th>deck</th>\n",
       "      <th>embark_town</th>\n",
       "      <th>alive</th>\n",
       "      <th>alone</th>\n",
       "    </tr>\n",
       "  </thead>\n",
       "  <tbody>\n",
       "    <tr>\n",
       "      <th>0</th>\n",
       "      <td>0</td>\n",
       "      <td>3</td>\n",
       "      <td>male</td>\n",
       "      <td>22.0</td>\n",
       "      <td>1</td>\n",
       "      <td>0</td>\n",
       "      <td>7.2500</td>\n",
       "      <td>S</td>\n",
       "      <td>Third</td>\n",
       "      <td>man</td>\n",
       "      <td>True</td>\n",
       "      <td>NaN</td>\n",
       "      <td>Southampton</td>\n",
       "      <td>no</td>\n",
       "      <td>False</td>\n",
       "    </tr>\n",
       "    <tr>\n",
       "      <th>1</th>\n",
       "      <td>1</td>\n",
       "      <td>1</td>\n",
       "      <td>female</td>\n",
       "      <td>38.0</td>\n",
       "      <td>1</td>\n",
       "      <td>0</td>\n",
       "      <td>71.2833</td>\n",
       "      <td>C</td>\n",
       "      <td>First</td>\n",
       "      <td>woman</td>\n",
       "      <td>False</td>\n",
       "      <td>C</td>\n",
       "      <td>Cherbourg</td>\n",
       "      <td>yes</td>\n",
       "      <td>False</td>\n",
       "    </tr>\n",
       "    <tr>\n",
       "      <th>2</th>\n",
       "      <td>1</td>\n",
       "      <td>3</td>\n",
       "      <td>female</td>\n",
       "      <td>26.0</td>\n",
       "      <td>0</td>\n",
       "      <td>0</td>\n",
       "      <td>7.9250</td>\n",
       "      <td>S</td>\n",
       "      <td>Third</td>\n",
       "      <td>woman</td>\n",
       "      <td>False</td>\n",
       "      <td>NaN</td>\n",
       "      <td>Southampton</td>\n",
       "      <td>yes</td>\n",
       "      <td>True</td>\n",
       "    </tr>\n",
       "    <tr>\n",
       "      <th>3</th>\n",
       "      <td>1</td>\n",
       "      <td>1</td>\n",
       "      <td>female</td>\n",
       "      <td>35.0</td>\n",
       "      <td>1</td>\n",
       "      <td>0</td>\n",
       "      <td>53.1000</td>\n",
       "      <td>S</td>\n",
       "      <td>First</td>\n",
       "      <td>woman</td>\n",
       "      <td>False</td>\n",
       "      <td>C</td>\n",
       "      <td>Southampton</td>\n",
       "      <td>yes</td>\n",
       "      <td>False</td>\n",
       "    </tr>\n",
       "    <tr>\n",
       "      <th>4</th>\n",
       "      <td>0</td>\n",
       "      <td>3</td>\n",
       "      <td>male</td>\n",
       "      <td>35.0</td>\n",
       "      <td>0</td>\n",
       "      <td>0</td>\n",
       "      <td>8.0500</td>\n",
       "      <td>S</td>\n",
       "      <td>Third</td>\n",
       "      <td>man</td>\n",
       "      <td>True</td>\n",
       "      <td>NaN</td>\n",
       "      <td>Southampton</td>\n",
       "      <td>no</td>\n",
       "      <td>True</td>\n",
       "    </tr>\n",
       "    <tr>\n",
       "      <th>...</th>\n",
       "      <td>...</td>\n",
       "      <td>...</td>\n",
       "      <td>...</td>\n",
       "      <td>...</td>\n",
       "      <td>...</td>\n",
       "      <td>...</td>\n",
       "      <td>...</td>\n",
       "      <td>...</td>\n",
       "      <td>...</td>\n",
       "      <td>...</td>\n",
       "      <td>...</td>\n",
       "      <td>...</td>\n",
       "      <td>...</td>\n",
       "      <td>...</td>\n",
       "      <td>...</td>\n",
       "    </tr>\n",
       "    <tr>\n",
       "      <th>886</th>\n",
       "      <td>0</td>\n",
       "      <td>2</td>\n",
       "      <td>male</td>\n",
       "      <td>27.0</td>\n",
       "      <td>0</td>\n",
       "      <td>0</td>\n",
       "      <td>13.0000</td>\n",
       "      <td>S</td>\n",
       "      <td>Second</td>\n",
       "      <td>man</td>\n",
       "      <td>True</td>\n",
       "      <td>NaN</td>\n",
       "      <td>Southampton</td>\n",
       "      <td>no</td>\n",
       "      <td>True</td>\n",
       "    </tr>\n",
       "    <tr>\n",
       "      <th>887</th>\n",
       "      <td>1</td>\n",
       "      <td>1</td>\n",
       "      <td>female</td>\n",
       "      <td>19.0</td>\n",
       "      <td>0</td>\n",
       "      <td>0</td>\n",
       "      <td>30.0000</td>\n",
       "      <td>S</td>\n",
       "      <td>First</td>\n",
       "      <td>woman</td>\n",
       "      <td>False</td>\n",
       "      <td>B</td>\n",
       "      <td>Southampton</td>\n",
       "      <td>yes</td>\n",
       "      <td>True</td>\n",
       "    </tr>\n",
       "    <tr>\n",
       "      <th>888</th>\n",
       "      <td>0</td>\n",
       "      <td>3</td>\n",
       "      <td>female</td>\n",
       "      <td>NaN</td>\n",
       "      <td>1</td>\n",
       "      <td>2</td>\n",
       "      <td>23.4500</td>\n",
       "      <td>S</td>\n",
       "      <td>Third</td>\n",
       "      <td>woman</td>\n",
       "      <td>False</td>\n",
       "      <td>NaN</td>\n",
       "      <td>Southampton</td>\n",
       "      <td>no</td>\n",
       "      <td>False</td>\n",
       "    </tr>\n",
       "    <tr>\n",
       "      <th>889</th>\n",
       "      <td>1</td>\n",
       "      <td>1</td>\n",
       "      <td>male</td>\n",
       "      <td>26.0</td>\n",
       "      <td>0</td>\n",
       "      <td>0</td>\n",
       "      <td>30.0000</td>\n",
       "      <td>C</td>\n",
       "      <td>First</td>\n",
       "      <td>man</td>\n",
       "      <td>True</td>\n",
       "      <td>C</td>\n",
       "      <td>Cherbourg</td>\n",
       "      <td>yes</td>\n",
       "      <td>True</td>\n",
       "    </tr>\n",
       "    <tr>\n",
       "      <th>890</th>\n",
       "      <td>0</td>\n",
       "      <td>3</td>\n",
       "      <td>male</td>\n",
       "      <td>32.0</td>\n",
       "      <td>0</td>\n",
       "      <td>0</td>\n",
       "      <td>7.7500</td>\n",
       "      <td>Q</td>\n",
       "      <td>Third</td>\n",
       "      <td>man</td>\n",
       "      <td>True</td>\n",
       "      <td>NaN</td>\n",
       "      <td>Queenstown</td>\n",
       "      <td>no</td>\n",
       "      <td>True</td>\n",
       "    </tr>\n",
       "  </tbody>\n",
       "</table>\n",
       "<p>891 rows × 15 columns</p>\n",
       "</div>"
      ],
      "text/plain": [
       "     survived  pclass     sex   age  sibsp  parch     fare embarked   class  \\\n",
       "0           0       3    male  22.0      1      0   7.2500        S   Third   \n",
       "1           1       1  female  38.0      1      0  71.2833        C   First   \n",
       "2           1       3  female  26.0      0      0   7.9250        S   Third   \n",
       "3           1       1  female  35.0      1      0  53.1000        S   First   \n",
       "4           0       3    male  35.0      0      0   8.0500        S   Third   \n",
       "..        ...     ...     ...   ...    ...    ...      ...      ...     ...   \n",
       "886         0       2    male  27.0      0      0  13.0000        S  Second   \n",
       "887         1       1  female  19.0      0      0  30.0000        S   First   \n",
       "888         0       3  female   NaN      1      2  23.4500        S   Third   \n",
       "889         1       1    male  26.0      0      0  30.0000        C   First   \n",
       "890         0       3    male  32.0      0      0   7.7500        Q   Third   \n",
       "\n",
       "       who  adult_male deck  embark_town alive  alone  \n",
       "0      man        True  NaN  Southampton    no  False  \n",
       "1    woman       False    C    Cherbourg   yes  False  \n",
       "2    woman       False  NaN  Southampton   yes   True  \n",
       "3    woman       False    C  Southampton   yes  False  \n",
       "4      man        True  NaN  Southampton    no   True  \n",
       "..     ...         ...  ...          ...   ...    ...  \n",
       "886    man        True  NaN  Southampton    no   True  \n",
       "887  woman       False    B  Southampton   yes   True  \n",
       "888  woman       False  NaN  Southampton    no  False  \n",
       "889    man        True    C    Cherbourg   yes   True  \n",
       "890    man        True  NaN   Queenstown    no   True  \n",
       "\n",
       "[891 rows x 15 columns]"
      ]
     },
     "execution_count": 12,
     "metadata": {},
     "output_type": "execute_result"
    }
   ],
   "source": [
    "df"
   ]
  },
  {
   "cell_type": "markdown",
   "metadata": {},
   "source": [
    "#### Informasi DataFrame Titanic secara keseluruhan\n",
    "\n",
    "Terdapat 15 Kolom pada DataFrame Titanic, yaitu:\n",
    "- Survived = {1 = Selamat, 0 = Meninggal}\n",
    "- pclass = Tiket Class {1 = 1st, 2 = 2st, 3 = 3rd} (Dalam bentuk angka)\n",
    "- sex = Jenis Kelamin {male, female}\n",
    "- age = umur (dalam tahun)\n",
    "- sibsp = kakak adik / pasangan yg ikut naik kapal titanic \n",
    "- parch = orang tua / anak yg ikut naik kapal titanic\n",
    "- fare = Tarif (dalam bentuk dollar)\n",
    "- embarked = Titik embarkasi {C= Cherbourg, Q = Queenstown, S=Southampton}\n",
    "- class = Tiket Class {first, second, third} (Dalam bentuk kata) \n",
    "- who = {man, woman, child}\n",
    "- adult_male = Orang Dewasa {True, False}\n",
    "- deck = Nomor Kabin / Deck {A,B,C,D,E,F,G}\n",
    "- embark_town = Kota Embarkasi {Cherbourg, Queenstown, Southampton}\n",
    "- alive = Kondisi Selamat {no = Meninggal, yes= selamat} \n",
    "- alone = {True = Sendiri, False = Bersama keluarga/saudara}"
   ]
  },
  {
   "cell_type": "code",
   "execution_count": 7,
   "metadata": {},
   "outputs": [
    {
     "name": "stdout",
     "output_type": "stream",
     "text": [
      "<class 'pandas.core.frame.DataFrame'>\n",
      "RangeIndex: 891 entries, 0 to 890\n",
      "Data columns (total 15 columns):\n",
      " #   Column       Non-Null Count  Dtype   \n",
      "---  ------       --------------  -----   \n",
      " 0   survived     891 non-null    int64   \n",
      " 1   pclass       891 non-null    int64   \n",
      " 2   sex          891 non-null    object  \n",
      " 3   age          714 non-null    float64 \n",
      " 4   sibsp        891 non-null    int64   \n",
      " 5   parch        891 non-null    int64   \n",
      " 6   fare         891 non-null    float64 \n",
      " 7   embarked     889 non-null    object  \n",
      " 8   class        891 non-null    category\n",
      " 9   who          891 non-null    object  \n",
      " 10  adult_male   891 non-null    bool    \n",
      " 11  deck         203 non-null    category\n",
      " 12  embark_town  889 non-null    object  \n",
      " 13  alive        891 non-null    object  \n",
      " 14  alone        891 non-null    bool    \n",
      "dtypes: bool(2), category(2), float64(2), int64(4), object(5)\n",
      "memory usage: 80.6+ KB\n"
     ]
    }
   ],
   "source": [
    "df.info()"
   ]
  },
  {
   "cell_type": "markdown",
   "metadata": {},
   "source": [
    "Dari df.info(), diketahui terdapat beberapa missing value, yaitu pada:\n",
    " - Kolom Umur Penumpang ('age')\n",
    " - Kolom titik awal naik penumpang ('embarked') & ('embarked_town')\n",
    " - Kolom Nomor Kabin/Deck ('deck')"
   ]
  },
  {
   "cell_type": "markdown",
   "metadata": {},
   "source": [
    "----"
   ]
  },
  {
   "cell_type": "markdown",
   "metadata": {},
   "source": [
    "## A. Rata-rata umur penumpang"
   ]
  },
  {
   "cell_type": "code",
   "execution_count": 172,
   "metadata": {},
   "outputs": [
    {
     "name": "stdout",
     "output_type": "stream",
     "text": [
      "Rata-rata umur penumpang : 29.7 Tahun\n",
      "\n",
      "Rata-rata umur penumpang yang selamat : 28.34 Tahun\n",
      "\n",
      "Rata-rata umur penumpang yang meninggal : 30.63 Tahun\n",
      "\n",
      "Rata-rata umur penumpang pria : 30.73 Tahun\n",
      "\n",
      "Rata-rata umur penumpang wanita : 27.92 Tahun\n"
     ]
    }
   ],
   "source": [
    "## Mengihitung umur rata-rata penumpang\n",
    "rUmurPenumpang = round(df['age'].mean(),2)\n",
    "print(f\"Rata-rata umur penumpang : {rUmurPenumpang} Tahun\\n\")\n",
    "\n",
    "## Rata-rata umur penumpang yang selamat\n",
    "rUmurPenumpangSelamat = round(df[df['survived']==1]['age'].agg('mean'),2)\n",
    "print(f\"Rata-rata umur penumpang yang selamat : {rUmurPenumpangSelamat} Tahun\\n\")\n",
    "\n",
    "## Rata-rata umur penumpang yang meninggal\n",
    "rUmurPenumpangMnggl = round(df[df['survived']==0]['age'].describe()['mean'],2)\n",
    "print(f\"Rata-rata umur penumpang yang meninggal : {rUmurPenumpangMnggl} Tahun\\n\")\n",
    "\n",
    "## Rata-rata umur penumpang pria\n",
    "rUmurPria = round(df[df['sex']=='male']['age'].mean(),2)\n",
    "print(f\"Rata-rata umur penumpang pria : {rUmurPria} Tahun\\n\")\n",
    "\n",
    "## Rata-rata umur penumpang pria\n",
    "rUmurPerempuan = round(df[df['sex']=='female']['age'].agg('mean'),2)\n",
    "print(f\"Rata-rata umur penumpang wanita : {rUmurPerempuan} Tahun\")"
   ]
  },
  {
   "cell_type": "markdown",
   "metadata": {},
   "source": [
    "## B. Jumlah Penumpang"
   ]
  },
  {
   "cell_type": "code",
   "execution_count": 146,
   "metadata": {},
   "outputs": [
    {
     "name": "stdout",
     "output_type": "stream",
     "text": [
      "Jumlah penumpang : 891 orang\n",
      "\n",
      "Jumlah penumpang selamat : 342 orang\n",
      "\n",
      "Jumlah penumpang meninggal : 549 orang\n"
     ]
    }
   ],
   "source": [
    "## Jumlah penumpang\n",
    "jmlPenumpang =len(df)\n",
    "print(f\"Jumlah penumpang : {jmlPenumpang} orang\\n\")\n",
    "\n",
    "## Jumlah Penumpang yang selamat\n",
    "jmlSelamat = len(df[df['survived']== 1])\n",
    "print(f\"Jumlah penumpang selamat : {jmlSelamat} orang\\n\")\n",
    "\n",
    "## Jumlah Penumpang yang meninggal\n",
    "jmlMeninggal = len(df[df['survived']== 0])\n",
    "print(f\"Jumlah penumpang meninggal : {jmlMeninggal} orang\")"
   ]
  },
  {
   "cell_type": "markdown",
   "metadata": {},
   "source": [
    "-----------"
   ]
  },
  {
   "cell_type": "markdown",
   "metadata": {},
   "source": [
    "## C. Klasifikasi Penumpang"
   ]
  },
  {
   "cell_type": "markdown",
   "metadata": {},
   "source": [
    "### - Berdasarkan Jenis Kelamin\n",
    "#### Jumlah penumpang laki-laki"
   ]
  },
  {
   "cell_type": "code",
   "execution_count": 182,
   "metadata": {},
   "outputs": [
    {
     "name": "stdout",
     "output_type": "stream",
     "text": [
      "Jumlah penumpang laki-laki : 577 orang\n",
      "\n",
      "Jumlah penumpang laki-laki selamat : 109 orang\n",
      "\n",
      "Jumlah penumpang laki-laki meninggal : 468 orang\n"
     ]
    }
   ],
   "source": [
    "## Menghitung jumlah penumpang laki-laki\n",
    "jmlPenumpangL =len(df[df['sex'] == 'male'])\n",
    "print(f\"Jumlah penumpang laki-laki : {jmlPenumpangL} orang\\n\")\n",
    "\n",
    "## Menghitung jumlah penumpang laki-laki yang selamat\n",
    "jmlLakiSlmt = len(df[(df['sex']=='male')& (df['survived']==1)])\n",
    "print(f\"Jumlah penumpang laki-laki selamat : {jmlLakiSlmt} orang\\n\")\n",
    "\n",
    "##Menghitung jumlah penumpang laki laki yng meninggal\n",
    "jmlLakiMnggl = len(df[(df['sex'] == 'male') & (df['survived']== 0)])\n",
    "print(f\"Jumlah penumpang laki-laki meninggal : {jmlLakiMnggl} orang\")\n"
   ]
  },
  {
   "cell_type": "markdown",
   "metadata": {},
   "source": [
    "####  Jumlah penumpang perempuan"
   ]
  },
  {
   "cell_type": "code",
   "execution_count": 183,
   "metadata": {},
   "outputs": [
    {
     "name": "stdout",
     "output_type": "stream",
     "text": [
      "Jumlah penumpang perempuan : 314 orang\n",
      "\n",
      "Jumlah penumpang perempuan selamat : 233 orang\n",
      "\n",
      "Jumlah penumpang perempuan meninggal : 81 orang\n"
     ]
    }
   ],
   "source": [
    "## Menghitung jumlah penumpang perempuan\n",
    "jmlPenumpangP = len(df[df['sex']== 'female'])\n",
    "print(f\"Jumlah penumpang perempuan : {jmlPenumpangP} orang\\n\")\n",
    "\n",
    "## Menghitung jumlah penumpang perempuan yang selamat\n",
    "jmlPerempuanSlmt = len(df[(df['sex']=='female')& (df['survived']==1)])\n",
    "print(f\"Jumlah penumpang perempuan selamat : {jmlPerempuanSlmt} orang\\n\")\n",
    "\n",
    "##Menghitung jumlah penumpang perempuan yng meninggal\n",
    "jmlPerempuanMnggl = len(df[(df['sex'] == 'female') & (df['survived']== 0)])\n",
    "print(f\"Jumlah penumpang perempuan meninggal : {jmlPerempuanMnggl} orang\")\n"
   ]
  },
  {
   "cell_type": "markdown",
   "metadata": {},
   "source": [
    "------"
   ]
  },
  {
   "cell_type": "markdown",
   "metadata": {},
   "source": [
    "### - Berdasarkan Umur\n",
    "#### Jumlah Penumpang Balita (0 - 4 Tahun)"
   ]
  },
  {
   "cell_type": "code",
   "execution_count": 194,
   "metadata": {},
   "outputs": [
    {
     "name": "stdout",
     "output_type": "stream",
     "text": [
      "Jumlah penumpang balita : 40 orang\n",
      "\n",
      "Jumlah penumpang balita selamat : 27 orang\n",
      "\n",
      "Jumlah penumpang balita meninggal : 13 orang\n"
     ]
    }
   ],
   "source": [
    "## Menghitung jumlah penumpang balita\n",
    "jmlPenumpangBalita =len(df[(df['age'] >= 0) & (df['age'] < 5)])\n",
    "print(f\"Jumlah penumpang balita : {jmlPenumpangBalita} orang\\n\")\n",
    "\n",
    "## Menghitung jumlah balita yang selamat\n",
    "jmlBalitaSlmt =len(df[(df['age'] >= 0) & (df['age'] < 5) & (df['survived']==1)])\n",
    "print(f\"Jumlah penumpang balita selamat : {jmlBalitaSlmt} orang\\n\")\n",
    "\n",
    "## Menghitung jumlah balita yang meninggal\n",
    "jmlBalitaMnggl =len(df[(df['age'] >= 0) & (df['age'] < 5) & (df['survived']==0)])\n",
    "print(f\"Jumlah penumpang balita meninggal : {jmlBalitaMnggl} orang\")"
   ]
  },
  {
   "cell_type": "markdown",
   "metadata": {},
   "source": [
    "#### Jumlah penumpang kanak-kanak (5 - 11 Tahun)"
   ]
  },
  {
   "cell_type": "code",
   "execution_count": 185,
   "metadata": {},
   "outputs": [
    {
     "name": "stdout",
     "output_type": "stream",
     "text": [
      "Jumlah penumpang kanak-kanak : 28 orang\n",
      "\n"
     ]
    }
   ],
   "source": [
    "## Menghitung jumlah penumpang kanak-kanak\n",
    "jmlPenumpangKanak2 = len(df[(df['age'] >= 5) & (df['age'] < 12)])\n",
    "print(f\"Jumlah penumpang kanak-kanak : {jmlPenumpangKanak2} orang\\n\")"
   ]
  },
  {
   "cell_type": "markdown",
   "metadata": {},
   "source": [
    "#### Jumlah penumpang remaja (12 - 25 Tahun)"
   ]
  },
  {
   "cell_type": "code",
   "execution_count": 187,
   "metadata": {},
   "outputs": [
    {
     "name": "stdout",
     "output_type": "stream",
     "text": [
      "Jumlah penumpang remaja : 233 orang\n",
      "\n"
     ]
    }
   ],
   "source": [
    "## Menghitung jumlah penumpang remaja\n",
    "jmlPenumpangRemaja = len(df[(df['age'] >= 12) & (df['age'] < 26) ])\n",
    "print(f\"Jumlah penumpang remaja : {jmlPenumpangRemaja} orang\\n\")"
   ]
  },
  {
   "cell_type": "markdown",
   "metadata": {},
   "source": [
    "#### Jumlah penumpang dewasa (26 - 45 Tahun)"
   ]
  },
  {
   "cell_type": "code",
   "execution_count": 188,
   "metadata": {},
   "outputs": [
    {
     "name": "stdout",
     "output_type": "stream",
     "text": [
      "Jumlah penumpang dewasa : 312 orang\n",
      "\n"
     ]
    }
   ],
   "source": [
    "## Menghitung jumlah penumpang dewasa\n",
    "jmlPenumpangDewasa = len(df[(df['age']>= 26) & (df['age'] < 46) ])\n",
    "print(f\"Jumlah penumpang dewasa : {jmlPenumpangDewasa} orang\\n\")"
   ]
  },
  {
   "cell_type": "markdown",
   "metadata": {},
   "source": [
    "#### Jumlah penumpang lansia ( Diatas 46 Tahun)"
   ]
  },
  {
   "cell_type": "code",
   "execution_count": 91,
   "metadata": {},
   "outputs": [],
   "source": [
    "## Menghitung jumlah penumpang lansia"
   ]
  },
  {
   "cell_type": "code",
   "execution_count": 189,
   "metadata": {},
   "outputs": [
    {
     "name": "stdout",
     "output_type": "stream",
     "text": [
      "Jumlah penumpang lansia : 101 orang\n",
      "\n"
     ]
    }
   ],
   "source": [
    "jmlPenumpangLansia = len(df[df['age'] >= 46])\n",
    "print(f\"Jumlah penumpang lansia : {jmlPenumpangLansia} orang\\n\")"
   ]
  },
  {
   "cell_type": "code",
   "execution_count": 190,
   "metadata": {},
   "outputs": [
    {
     "data": {
      "text/plain": [
       "714"
      ]
     },
     "execution_count": 190,
     "metadata": {},
     "output_type": "execute_result"
    }
   ],
   "source": [
    "jmlPenumpangBalita +jmlPenumpangDewasa + jmlPenumpangKanak2 + jmlPenumpangRemaja + jmlPenumpangLansia"
   ]
  },
  {
   "cell_type": "markdown",
   "metadata": {},
   "source": [
    "---"
   ]
  },
  {
   "cell_type": "markdown",
   "metadata": {},
   "source": [
    "### - Berdasarkan Kelas\n",
    "#### Jumlah penumpang kelas 1"
   ]
  },
  {
   "cell_type": "code",
   "execution_count": null,
   "metadata": {},
   "outputs": [],
   "source": [
    " "
   ]
  },
  {
   "cell_type": "markdown",
   "metadata": {},
   "source": [
    "#### Jumlah penumpang kelas 2"
   ]
  },
  {
   "cell_type": "code",
   "execution_count": null,
   "metadata": {},
   "outputs": [],
   "source": []
  },
  {
   "cell_type": "markdown",
   "metadata": {},
   "source": [
    "#### Jumlah penumpang kelas 3"
   ]
  },
  {
   "cell_type": "code",
   "execution_count": 195,
   "metadata": {},
   "outputs": [
    {
     "data": {
      "text/plain": [
       "array(['man', 'woman', 'child'], dtype=object)"
      ]
     },
     "execution_count": 195,
     "metadata": {},
     "output_type": "execute_result"
    }
   ],
   "source": [
    "df['who'].uniqueque()"
   ]
  },
  {
   "cell_type": "code",
   "execution_count": null,
   "metadata": {},
   "outputs": [],
   "source": []
  }
 ],
 "metadata": {
  "kernelspec": {
   "display_name": "Python 3",
   "language": "python",
   "name": "python3"
  },
  "language_info": {
   "codemirror_mode": {
    "name": "ipython",
    "version": 3
   },
   "file_extension": ".py",
   "mimetype": "text/x-python",
   "name": "python",
   "nbconvert_exporter": "python",
   "pygments_lexer": "ipython3",
   "version": "3.8.3"
  }
 },
 "nbformat": 4,
 "nbformat_minor": 4
}
